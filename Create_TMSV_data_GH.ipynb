{
 "cells": [
  {
   "cell_type": "code",
   "execution_count": null,
   "metadata": {},
   "outputs": [],
   "source": [
    "# (C) Copyright Aaron Goldberg, 2022.\n",
    "#\n",
    "# This code is licensed under the Apache License, Version 2.0. You may\n",
    "# obtain a copy of this license in the LICENSE.txt file in the root directory\n",
    "# of this source tree or at http://www.apache.org/licenses/LICENSE-2.0.\n",
    "#\n",
    "# Any modifications or derivative works of this code must retain this\n",
    "# copyright notice, and modified files need to carry a notice indicating\n",
    "# that they have been altered from the originals."
   ]
  },
  {
   "cell_type": "code",
   "execution_count": 1,
   "metadata": {},
   "outputs": [
    {
     "name": "stdout",
     "output_type": "stream",
     "text": [
      "You have successfully authenticated to the platform!\n"
     ]
    }
   ],
   "source": [
    "# We want to know what the PNRDs say when we input 4 equal TMSVs\n",
    "import numpy as np\n",
    "import strawberryfields as sf\n",
    "sf.ping() # Check connection to platform; API key was previously established\n",
    "from strawberryfields import ops\n",
    "from strawberryfields import RemoteEngine\n",
    "\n",
    "prog = sf.Program(8, name=\"TMSV_stats\")\n",
    "\n",
    "with prog.context as q:\n",
    "    # Initial squeezed states in pairs of modes\n",
    "    # Allowed values are r=1.0 or r=0.0; always use r=1.0\n",
    "    ops.S2gate(1.0) | (q[0], q[4])\n",
    "    ops.S2gate(1.0) | (q[1], q[5])\n",
    "    ops.S2gate(1.0) | (q[3], q[7])\n",
    "    ops.S2gate(1.0) | (q[2], q[6])\n",
    "\n",
    "\n",
    "\n",
    "    ops.MeasureFock() | q"
   ]
  },
  {
   "cell_type": "code",
   "execution_count": null,
   "metadata": {},
   "outputs": [],
   "source": [
    "eng = RemoteEngine(\"X8\") # This is on the real computer\n",
    "num_shots=1000000 # Number of repetitions per trial run\n",
    "num_jobs=1000 # Number of trials\n",
    "jobs = [eng.run_async(prog, shots=num_shots) for i in range(num_jobs)] # Run asynchronously"
   ]
  },
  {
   "cell_type": "code",
   "execution_count": null,
   "metadata": {},
   "outputs": [],
   "source": [
    "def write_data_to_file(newdata, file_counter):\n",
    "    # Find probability distributions for pairs of detectors\n",
    "    maxval=np.amax(newdata) # There's a 9 in there!!;\n",
    "    offset=4 # Distance between pairs of detectors that share a TMSV\n",
    "    unique04, counts04 = np.unique(newdata[::,0:5:4], return_counts=True,axis=0)\n",
    "    unique15, counts15 = np.unique(newdata[::,0+1:5+1:4], return_counts=True,axis=0)\n",
    "    unique26, counts26 = np.unique(newdata[::,0+2:5+2:4], return_counts=True,axis=0)\n",
    "    unique37, counts37 = np.unique(newdata[::,0+3:5+3:4], return_counts=True,axis=0)\n",
    "    \n",
    "    arranged_counts04=np.zeros((maxval+1,maxval+1))\n",
    "    for i in range(len(counts04)):\n",
    "        arranged_counts04[unique04[i,0],unique04[i,1]]=counts04[i]\n",
    "    arranged_counts15=np.zeros((maxval+1,maxval+1))\n",
    "    for i in range(len(counts15)):\n",
    "        arranged_counts15[unique15[i,0],unique15[i,1]]=counts15[i]\n",
    "    arranged_counts26=np.zeros((maxval+1,maxval+1))\n",
    "    for i in range(len(counts26)):\n",
    "        arranged_counts26[unique26[i,0],unique26[i,1]]=counts26[i]\n",
    "    arranged_counts37=np.zeros((maxval+1,maxval+1))\n",
    "    for i in range(len(counts37)):\n",
    "        arranged_counts37[unique37[i,0],unique37[i,1]]=counts37[i]\n",
    "    # Each pair of detectors and each trial get their own saved histogram\n",
    "    np.savetxt(f'TMSV_data/04_{file_counter}.csv', arranged_counts04.astype(int), delimiter=',',fmt='%i')\n",
    "    np.savetxt(f'TMSV_data/15_{file_counter}.csv', arranged_counts15.astype(int), delimiter=',',fmt='%i')\n",
    "    np.savetxt(f'TMSV_data/26_{file_counter}.csv', arranged_counts26.astype(int), delimiter=',',fmt='%i')\n",
    "    np.savetxt(f'TMSV_data/37_{file_counter}.csv', arranged_counts37.astype(int), delimiter=',',fmt='%i')"
   ]
  },
  {
   "cell_type": "code",
   "execution_count": null,
   "metadata": {},
   "outputs": [],
   "source": [
    "import time\n",
    "sleep_time=10 # How many seconds we should wait before checking again whether our job completed\n",
    "job_counter=0\n",
    "file_counter=250\n",
    "while job_counter < num_jobs:\n",
    "    # This assumes the jobs will execute in order, which should be true at least approximately, for identical jobs. Should not slow things down otherwise\n",
    "    jobs[job_counter].refresh()\n",
    "    if jobs[job_counter].status == 'failed':\n",
    "        print(f'failed at job #{job_counter}')\n",
    "        job_counter=job_counter+1 # Skip any jobs that failed\n",
    "    elif jobs[job_counter].status == 'complete':\n",
    "        if jobs[job_counter].result is None:\n",
    "            print(f'empty result at job #{job_counter}')\n",
    "            job_counter=job_counter+1 # Skip any jobs that failed\n",
    "        else:\n",
    "            # Write data to file\n",
    "            write_data_to_file(jobs[job_counter].result.samples, file_counter)\n",
    "            print(f'complete at job #{job_counter} to make file #{file_counter}')\n",
    "            jobs[job_counter]=0 # Free up space\n",
    "            job_counter=job_counter+1\n",
    "            file_counter=file_counter+1\n",
    "    else:\n",
    "        time.sleep(sleep_time) # No need to keep checking too often if the job hasn't completed yet. If a job does complete, we check the next job without waiting"
   ]
  }
 ],
 "metadata": {
  "kernelspec": {
   "display_name": "Python 3",
   "language": "python",
   "name": "python3"
  },
  "language_info": {
   "codemirror_mode": {
    "name": "ipython",
    "version": 3
   },
   "file_extension": ".py",
   "mimetype": "text/x-python",
   "name": "python",
   "nbconvert_exporter": "python",
   "pygments_lexer": "ipython3",
   "version": "3.8.5"
  }
 },
 "nbformat": 4,
 "nbformat_minor": 4
}
